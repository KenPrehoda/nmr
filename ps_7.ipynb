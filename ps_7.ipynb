{
 "cells": [
  {
   "cell_type": "markdown",
   "metadata": {},
   "source": [
    "# Problem Set 7\n",
    "Measuring $pK_{a}$ values by NMR\n",
    "\n",
    "Use the files in the `../data/nmr` directory to determine the $pK_{a}$ of the titrating group. For full credit, you'll need to:\n",
    "1. load the data from each file into memory using Python\n",
    "2. determine the chemical shift of the relevant peak by fitting it to a [gaussian function](https://en.wikipedia.org/wiki/Gaussian_function) using [`scipy.optimize.curve_fit`](https://docs.scipy.org/doc/scipy/reference/generated/scipy.optimize.curve_fit.html)\n",
    "3. determine the $pK_{a}$ of the titrating group by fitting the chemical shifts of the relevant peak to the equation (also using `curve_fit`) $$ \\delta = \\delta_{protonated} - \\frac{\\delta_{protonated} - \\delta_{deprotonated}}{1 + 10^{pK_a - pH}} $$ \n",
    "4. make a plot of the pH vs the chemical shift of the relevant signal, along with the best fit curve through the data.\n",
    "\n",
    "Notes:\n",
    "* the pH of the solution for each NMR experiment is encoded in the filename\n",
    "* there are multiple peaks in the section of the spectrum contained in each file but not all peaks are sensitive to the titration\n",
    "    * it's much easier to fit a single gaussian to the data\n"
   ]
  },
  {
   "cell_type": "code",
   "execution_count": null,
   "metadata": {},
   "outputs": [],
   "source": []
  }
 ],
 "metadata": {
  "language_info": {
   "name": "python"
  },
  "orig_nbformat": 4
 },
 "nbformat": 4,
 "nbformat_minor": 2
}
